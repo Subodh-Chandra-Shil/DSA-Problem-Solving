{
 "cells": [
  {
   "cell_type": "markdown",
   "metadata": {},
   "source": [
    "Implementation"
   ]
  },
  {
   "cell_type": "markdown",
   "metadata": {},
   "source": [
    "1. We have define a root node first. \n",
    "2. Initially the root node is empty.\n",
    "3. "
   ]
  },
  {
   "cell_type": "markdown",
   "metadata": {},
   "source": [
    "Every node in a binary tree has a specific structure. It requires:\n",
    "1. Data variable to store data\n",
    "2. Two variable that can store address of atmost two child nodes"
   ]
  },
  {
   "cell_type": "code",
   "execution_count": null,
   "metadata": {
    "metadata": {}
   },
   "outputs": [],
   "source": [
    "class Node\n",
    "{\n",
    "public:\n",
    "    int data;\n",
    "    Node *leftChild;\n",
    "    Node *rightChild;\n",
    "\n",
    "    Node(int data)\n",
    "    {\n",
    "        this->data = data;\n",
    "    }\n",
    "};"
   ]
  },
  {
   "cell_type": "markdown",
   "metadata": {},
   "source": [
    "Before we get into various operations of a tree, it is required to know how we can input and output in a tree."
   ]
  },
  {
   "cell_type": "markdown",
   "metadata": {},
   "source": [
    "## Input in a tree\n",
    "\n",
    "1. Depth wise input \n",
    "2. Level wise input "
   ]
  },
  {
   "cell_type": "markdown",
   "metadata": {},
   "source": [
    "## Output or traversing in a tree \n",
    "\n",
    "1. Depth wise traversing or output \n",
    "2. Level wise traversing or output "
   ]
  },
  {
   "cell_type": "markdown",
   "metadata": {},
   "source": [
    "## Depth wise input \n",
    "\n",
    "- It will follow a "
   ]
  },
  {
   "cell_type": "code",
   "execution_count": null,
   "metadata": {},
   "outputs": [],
   "source": []
  }
 ],
 "metadata": {
  "kernelspec": {
   "display_name": "Python 3",
   "language": "python",
   "name": "python3"
  },
  "language_info": {
   "codemirror_mode": {
    "name": "ipython",
    "version": 3
   },
   "file_extension": ".py",
   "mimetype": "text/x-python",
   "name": "python",
   "nbconvert_exporter": "python",
   "pygments_lexer": "ipython3",
   "version": "3.10.12"
  }
 },
 "nbformat": 4,
 "nbformat_minor": 2
}
